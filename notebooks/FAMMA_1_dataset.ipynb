{
 "cells": [
  {
   "cell_type": "markdown",
   "metadata": {
    "id": "0WnHBAx43VcE"
   },
   "source": [
    "[![Open in Colab](https://colab.research.google.com/assets/colab-badge.svg)](https://colab.research.google.com/github/famma-bench/bench-script/blob/main/notebooks/FAMMA_1_dataset.ipynb)\n",
    "\n",
    "# Introduction of FAMMA Dataset  \n",
    "\n",
    "FAMMA is a multi-modal financial Q&A benchmark dataset. The questions encompass three heterogeneous image types - tables, charts and text & math screenshots - and span eight subfields in finance, comprehensively covering topics across major asset classes.\n",
    "\n",
    "## Download the dataset\n",
    "\n",
    "To download the dataset, firstly we need to git clone the repository and install the dependencies."
   ]
  },
  {
   "cell_type": "code",
   "execution_count": null,
   "metadata": {
    "colab": {
     "base_uri": "https://localhost:8080/",
     "height": 1000
    },
    "executionInfo": {
     "elapsed": 128322,
     "status": "ok",
     "timestamp": 1742191658437,
     "user": {
      "displayName": "Siqiao Xue",
      "userId": "17583213661597741393"
     },
     "user_tz": -480
    },
    "id": "UjBA_YZHfEeX",
    "outputId": "dcc77d23-ade4-43cb-b6eb-4a54fd391502"
   },
   "outputs": [],
   "source": [
    "! git clone https://github.com/famma-bench/bench-script.git\n",
    "! pip install -r bench-script/requirements.txt"
   ]
  },
  {
   "cell_type": "markdown",
   "metadata": {
    "id": "6ooOSmiF4YVx"
   },
   "source": [
    "Then we need to add the path of the repository to the system path to facilitate the import of related modules."
   ]
  },
  {
   "cell_type": "code",
   "execution_count": null,
   "metadata": {
    "executionInfo": {
     "elapsed": 2,
     "status": "ok",
     "timestamp": 1742193170844,
     "user": {
      "displayName": "Siqiao Xue",
      "userId": "17583213661597741393"
     },
     "user_tz": -480
    },
    "id": "LQrlTs2k3RsT"
   },
   "outputs": [],
   "source": [
    "import sys\n",
    "sys.path.append('./bench-script')"
   ]
  },
  {
   "cell_type": "markdown",
   "metadata": {
    "id": "hmbq1ilJ4d7o"
   },
   "source": [
    "Finally, we can download the dataset by running the following script."
   ]
  },
  {
   "cell_type": "code",
   "execution_count": null,
   "metadata": {
    "colab": {
     "base_uri": "https://localhost:8080/",
     "height": 376,
     "referenced_widgets": [
      "1fd507b32e424025ba2fca32b73880fa",
      "4dc39ff9a7b245f0bd8945d612b0d210",
      "583169a139d2476189315bfbea12727c",
      "d3973d20e86e4addbff5156bddf7a5e1",
      "21bcedf1392c4cf7a3483cb488797f13",
      "3bb42ba6a04444f2967eba097fc1026d",
      "b9704b8945714d449069b543ae70ba21",
      "a18bef7ce192488897bec41835d4d14c",
      "5321c24c3a60455ea1280bcc39d5092f",
      "36cd3e3b2de84d13a243ee76cfba88b6",
      "1a5532f41e9d483da56cd18821fdaa18",
      "13fcad430902472e88d3a1931d6da6ec",
      "16104c274fe14655b7f95ab61c0f201a",
      "d9acfad9b3b740c7b3c7aac97f37d400",
      "40dda44bc7214c768b1bda8d3cb44c9d",
      "2aa144f78af04fd8863f2bb58fa90464",
      "e3782dbf372c47e7a6b54c2db493938e",
      "ab1b734c746845b3bde997139d12f18f",
      "5a5889c1654b46c1a15b545709ac1331",
      "807c35ddbf3840e4ac8373a6bf3d2110",
      "4fdb30534a174297905ffb13e887d9ca",
      "f1b78610fc064940a196539ccc2556b0",
      "30f47efbab39466fa0c3318927bd1f5a",
      "f9f6af2fcc4745c79b54bdfe42e5566f",
      "0d35a56ed5ba466a9333b53b2f2f4d30",
      "f885e50a77204339b79f7abbbe92ce3f",
      "44e3e33e67fc4cbb874eadf7a47184e4",
      "fc2b7ab2e8a5412589ff08b5634a5a14",
      "071cb7ef4f4b4fe89a7fe1a9fc640e6f",
      "d16db725f9284185b51380511f690c33",
      "e0da852be10b4b96a4f610335731e2c3",
      "cafe7a572f644fe0927a1c290c2af9b2",
      "8e137f847db04d0e9a6591089c7e099d",
      "7e7ff00d9d544ceda85796d646006d08",
      "5d7d6d986054469b81320c217b53f3bd",
      "0599776aae2245d29494b54b72da8f55",
      "e11ee6616cc84826b558b5615354cdbe",
      "9595a265911d42d09ec32f7fccf75472",
      "686075e2aa1946b3b7e47116b420f43d",
      "467e45615368443eb4ac14d04b786cad",
      "4fe1d3427d7c483cbe2cc8de2c624983",
      "8aa6605ae2d74fd59dc8b5eebff0ae95",
      "0d0f71194c0240a69d5c3f59e99c9a08",
      "9574a3c6f269407bb72b7abe45df4187",
      "685ed9e74b4d4f38babf2ecb036afc89",
      "aabf787e6d384af687fcc68009b84c59",
      "1212f727a6b4488dadc69199e809bd51",
      "3355943821504a18ab17903fb05b68c3",
      "dd3c47de12ac4c9e8544a82db270d14b",
      "50735ed0da7e4b5d8610708592d1ffca",
      "98b405b3d3bf42f5a29ab59f53ca91c5",
      "d5df96f9fcb84ac1ae98d5752da0d210",
      "8de7686891994e388648e3520405c184",
      "ac0c1626d8ef46e6ad97e49ac4b9ef7d",
      "e6c7ec9cb67247fea26635e6439a4a39"
     ]
    },
    "executionInfo": {
     "elapsed": 26540,
     "status": "ok",
     "timestamp": 1742193199843,
     "user": {
      "displayName": "Siqiao Xue",
      "userId": "17583213661597741393"
     },
     "user_tz": -480
    },
    "id": "GGnfjJqa4aHl",
    "outputId": "ae953873-1235-4ff5-db33-cd674e726447"
   },
   "outputs": [],
   "source": [
    "from famma_runner.utils.data_utils import download_data\n",
    "\n",
    "# the directory of the dataset in huggingface\n",
    "hf_dir = \"weaverbirdllm/famma\"\n",
    "\n",
    "# the version of the dataset, there are two versions: release_basic and release_livepro\n",
    "# if None, it will download the whole dataset\n",
    "split = \"release_basic\"\n",
    "\n",
    "# the local directory to save the dataset\n",
    "save_dir = \"./data\"\n",
    "\n",
    "# whether to download the dataset from huggingface or local, by default it is False\n",
    "from_local = False\n",
    "\n",
    "success = download_data(\n",
    "        hf_dir=hf_dir,\n",
    "        split=split,\n",
    "        save_dir=save_dir,\n",
    "        from_local=from_local\n",
    "    )\n",
    "\n"
   ]
  },
  {
   "cell_type": "markdown",
   "metadata": {
    "id": "od4o8CWb6XP9"
   },
   "source": [
    "After downloading, the dataset will be saved in the local directory `./data` in json format.  \n",
    "\n",
    "# Dataset Inspection\n",
    "\n",
    "## Dataset Statistics\n",
    "\n",
    "We use the following script to show the overall statistics of the dataset."
   ]
  },
  {
   "cell_type": "code",
   "execution_count": null,
   "metadata": {
    "executionInfo": {
     "elapsed": 1123,
     "status": "ok",
     "timestamp": 1742193274008,
     "user": {
      "displayName": "Siqiao Xue",
      "userId": "17583213661597741393"
     },
     "user_tz": -480
    },
    "id": "QGQc36Ml4eud"
   },
   "outputs": [],
   "source": [
    "from famma_runner.utils.descriptive_utils import get_dataset_statistics\n",
    "\n",
    "stat_dict = get_dataset_statistics('data/release_basic.json')\n"
   ]
  },
  {
   "cell_type": "code",
   "execution_count": null,
   "metadata": {
    "colab": {
     "base_uri": "https://localhost:8080/"
    },
    "executionInfo": {
     "elapsed": 7,
     "status": "ok",
     "timestamp": 1742193282336,
     "user": {
      "displayName": "Siqiao Xue",
      "userId": "17583213661597741393"
     },
     "user_tz": -480
    },
    "id": "e9pqgpwi6aef",
    "outputId": "f54ed1cf-468f-42ee-ed8c-3298da3b8afc"
   },
   "outputs": [],
   "source": [
    "stat_dict.keys()"
   ]
  },
  {
   "cell_type": "code",
   "execution_count": null,
   "metadata": {
    "colab": {
     "base_uri": "https://localhost:8080/",
     "height": 35
    },
    "executionInfo": {
     "elapsed": 8,
     "status": "ok",
     "timestamp": 1742193283962,
     "user": {
      "displayName": "Siqiao Xue",
      "userId": "17583213661597741393"
     },
     "user_tz": -480
    },
    "id": "GPNb0clW6b16",
    "outputId": "8cd50d70-0bbc-4a29-a9d4-2fc2814ef2a1"
   },
   "outputs": [],
   "source": [
    "'Total questions {}'.format(stat_dict['total_count'])"
   ]
  },
  {
   "cell_type": "code",
   "execution_count": null,
   "metadata": {
    "colab": {
     "base_uri": "https://localhost:8080/"
    },
    "executionInfo": {
     "elapsed": 5,
     "status": "ok",
     "timestamp": 1742193284746,
     "user": {
      "displayName": "Siqiao Xue",
      "userId": "17583213661597741393"
     },
     "user_tz": -480
    },
    "id": "YSeJ5nFC6dVK",
    "outputId": "b4d4a6e2-b477-4e1b-9173-78ebd8fd5f31"
   },
   "outputs": [],
   "source": [
    "'Language distribution /n'\n",
    "stat_dict['language_count']"
   ]
  },
  {
   "cell_type": "code",
   "execution_count": null,
   "metadata": {
    "colab": {
     "base_uri": "https://localhost:8080/"
    },
    "executionInfo": {
     "elapsed": 7,
     "status": "ok",
     "timestamp": 1742193285236,
     "user": {
      "displayName": "Siqiao Xue",
      "userId": "17583213661597741393"
     },
     "user_tz": -480
    },
    "id": "diRAHK4P6eYp",
    "outputId": "800186ff-3034-4259-f211-d8c07d536e41"
   },
   "outputs": [],
   "source": [
    "'Difficulty distribution /n'\n",
    "stat_dict['topic_difficulty_count']"
   ]
  },
  {
   "cell_type": "code",
   "execution_count": null,
   "metadata": {
    "colab": {
     "base_uri": "https://localhost:8080/"
    },
    "executionInfo": {
     "elapsed": 7,
     "status": "ok",
     "timestamp": 1742193285705,
     "user": {
      "displayName": "Siqiao Xue",
      "userId": "17583213661597741393"
     },
     "user_tz": -480
    },
    "id": "YdXrsGpG6g2M",
    "outputId": "495a9789-bb1d-4d18-a260-8d3482a8c247"
   },
   "outputs": [],
   "source": [
    "'Question type distribution /n'\n",
    "stat_dict['question_type_count']"
   ]
  },
  {
   "cell_type": "code",
   "execution_count": null,
   "metadata": {
    "colab": {
     "base_uri": "https://localhost:8080/"
    },
    "executionInfo": {
     "elapsed": 3,
     "status": "ok",
     "timestamp": 1742193286436,
     "user": {
      "displayName": "Siqiao Xue",
      "userId": "17583213661597741393"
     },
     "user_tz": -480
    },
    "id": "ZNqds0K56iLm",
    "outputId": "c1205c2f-958c-4dbc-fec6-6be27e38e912"
   },
   "outputs": [],
   "source": [
    "'Subfield distribution /n'\n",
    "stat_dict['subfield_count']"
   ]
  },
  {
   "cell_type": "code",
   "execution_count": null,
   "metadata": {
    "id": "8pJWUk2w6jOj"
   },
   "outputs": [],
   "source": []
  }
 ],
 "metadata": {
  "colab": {
   "authorship_tag": "ABX9TyPwvhvdYkLE0MrgDKtnBR2l",
   "provenance": []
  },
  "kernelspec": {
   "display_name": "Python 3",
   "name": "python3"
  },
  "language_info": {
   "name": "python"
  }
 },
 "nbformat": 4,
 "nbformat_minor": 0
}
