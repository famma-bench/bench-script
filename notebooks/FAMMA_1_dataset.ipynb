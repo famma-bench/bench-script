{
 "cells": [
  {
   "cell_type": "markdown",
   "metadata": {
    "colab_type": "text",
    "id": "view-in-github"
   },
   "source": [
    "<a href=\"https://colab.research.google.com/github/famma-bench/bench-script/blob/main/notebooks/FAMMA_1_dataset.ipynb\" target=\"_parent\"><img src=\"https://colab.research.google.com/assets/colab-badge.svg\" alt=\"Open In Colab\"/></a>"
   ]
  },
  {
   "cell_type": "markdown",
   "metadata": {
    "id": "UjBA_YZHfEeX"
   },
   "source": [
    "# Introduction of FAMMA Dataset  \n",
    "\n",
    "FAMMA is a multi-modal financial Q&A benchmark dataset. The questions encompass three heterogeneous image types - tables, charts and text & math screenshots - and span eight subfields in finance, comprehensively covering topics across major asset classes.\n",
    "\n",
    "## Download the dataset\n",
    "\n",
    "To download the dataset, firstly we need to git clone the repository and install the dependencies."
   ]
  },
  {
   "cell_type": "code",
   "metadata": {
    "vscode": {
     "languageId": "snippets"
    },
    "ExecuteTime": {
     "end_time": "2025-03-15T01:56:50.583663Z",
     "start_time": "2025-03-15T01:56:48.466271Z"
    }
   },
   "source": [
    "! git clone https://github.com/famma-bench/bench-script.git\n",
    "! pip install -r requirements.txt"
   ],
   "outputs": [
    {
     "name": "stdout",
     "output_type": "stream",
     "text": [
      "Cloning into 'bench-script'...\r\n",
      "remote: Enumerating objects: 574, done.\u001B[K\r\n",
      "remote: Counting objects: 100% (352/352), done.\u001B[K\r\n",
      "remote: Compressing objects: 100% (166/166), done.\u001B[K\r\n",
      "remote: Total 574 (delta 220), reused 310 (delta 183), pack-reused 222 (from 1)\u001B[K\r\n",
      "Receiving objects: 100% (574/574), 309.95 KiB | 1.20 MiB/s, done.\r\n",
      "Resolving deltas: 100% (350/350), done.\r\n",
      "\u001B[31mERROR: Could not open requirements file: [Errno 2] No such file or directory: 'requirements.txt'\u001B[0m\u001B[31m\r\n",
      "\u001B[0m"
     ]
    }
   ],
   "execution_count": 1
  },
  {
   "metadata": {},
   "cell_type": "code",
   "outputs": [],
   "execution_count": null,
   "source": ""
  }
 ],
 "metadata": {
  "colab": {
   "authorship_tag": "ABX9TyNPajLb9DjMhAxQ3G9GGy3x",
   "include_colab_link": true,
   "provenance": []
  },
  "kernelspec": {
   "display_name": "Python 3 (ipykernel)",
   "name": "python3",
   "language": "python"
  },
  "language_info": {
   "name": "python"
  }
 },
 "nbformat": 4,
 "nbformat_minor": 0
}
